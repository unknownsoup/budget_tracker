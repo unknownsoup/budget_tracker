{
 "cells": [
  {
   "metadata": {},
   "cell_type": "markdown",
   "source": "## ex.) of another similar idea for tracking tasks",
   "id": "648ac6cac5c52d8d"
  },
  {
   "metadata": {},
   "cell_type": "code",
   "outputs": [],
   "execution_count": null,
   "source": [
    "import os\n",
    "\n",
    "# File to store tasks\n",
    "TASKS_FILE = \"tasks.txt\"\n",
    "\n",
    "# Load tasks from file\n",
    "def load_tasks():\n",
    "    if os.path.exists(TASKS_FILE):\n",
    "        with open(TASKS_FILE, \"r\") as file:\n",
    "            tasks = [line.strip() for line in file.readlines()]\n",
    "    else:\n",
    "        tasks = []\n",
    "    return tasks\n",
    "\n",
    "# Save tasks to file\n",
    "def save_tasks(tasks):\n",
    "    with open(TASKS_FILE, \"w\") as file:\n",
    "        file.writelines(task + \"\\n\" for task in tasks)\n",
    "\n",
    "# Add a task\n",
    "def add_task(task, tasks):\n",
    "    tasks.append(task)\n",
    "    save_tasks(tasks)\n",
    "    print(f\"Task '{task}' added!\")\n",
    "\n",
    "# Complete a task\n",
    "def complete_task(index, tasks):\n",
    "    if 0 <= index < len(tasks):\n",
    "        print(f\"Task '{tasks[index]}' completed!\")\n",
    "        tasks.pop(index)\n",
    "        save_tasks(tasks)\n",
    "    else:\n",
    "        print(\"Invalid task number!\")\n",
    "\n",
    "# View tasks\n",
    "def view_tasks(tasks):\n",
    "    if not tasks:\n",
    "        print(\"No tasks at the moment.\")\n",
    "    else:\n",
    "        print(\"Your tasks:\")\n",
    "        for i, task in enumerate(tasks):\n",
    "            print(f\"{i + 1}. {task}\")\n",
    "\n",
    "# Main function\n",
    "def main():\n",
    "    tasks = load_tasks()\n",
    "\n",
    "    while True:\n",
    "        print(\"\\n1. View Tasks\\n2. Add Task\\n3. Complete Task\\n4. Exit\")\n",
    "        choice = input(\"Choose an option: \")\n",
    "\n",
    "        if choice == '1':\n",
    "            view_tasks(tasks)\n",
    "        elif choice == '2':\n",
    "            task = input(\"Enter a task: \")\n",
    "            add_task(task, tasks)\n",
    "        elif choice == '3':\n",
    "            view_tasks(tasks)\n",
    "            index = int(input(\"Enter task number to complete: \")) - 1\n",
    "            complete_task(index, tasks)\n",
    "        elif choice == '4':\n",
    "            break\n",
    "        else:\n",
    "            print(\"Invalid option, please try again.\")\n",
    "\n",
    "if __name__ == \"__main__\":\n",
    "    main()"
   ],
   "id": "initial_id"
  },
  {
   "metadata": {},
   "cell_type": "markdown",
   "source": "## Commiting new data from csv to database ",
   "id": "74d8c3ab2492cfd8"
  },
  {
   "metadata": {
    "ExecuteTime": {
     "end_time": "2024-09-08T21:36:13.843438Z",
     "start_time": "2024-09-08T21:36:13.663549Z"
    }
   },
   "cell_type": "code",
   "source": [
    "import mysql.connector\n",
    "import pandas as pd\n",
    "import numpy as np\n",
    "\n",
    "# For updating database, print new file:\n",
    "FILE = '6-6-2024  9-6-2-24.CSV' # <----\n",
    "\n",
    "def get_database_connection(): # to mysql\n",
    "    connection = mysql.connector.connect(host='localhost', user='root', passwd='braedon123', database='budgettracker')\n",
    "    return connection\n",
    "\n",
    "connection = get_database_connection()\n",
    "cursor = connection.cursor()\n",
    "\n",
    "# one line of code that turns this entire file an easy peasy dataframe to manipulate\n",
    "df = pd.read_csv(FILE)\n",
    "\n",
    "# reformatting/cleaning data\n",
    "df[\"Credit\"] = pd.to_numeric(df['Credit'], errors='coerce')\n",
    "df['Transaction Date'] = pd.to_datetime(df['Transaction Date'], format='%m/%d/%Y', errors='coerce')\n",
    "df = df[df['Transaction Date'].notna()]\n",
    "\n",
    "# with the db structured how we need it to be, we can make a new db with dates of every credit transaction\n",
    "df_creditTrans = df[df['Credit'] > 0]\n",
    "\n",
    "# putting data in expenses table\n",
    "for index, row in df_creditTrans.iterrows():\n",
    "    sql = \"\"\"INSERT INTO deposits (source, amount, date) VALUES (%s, %s, %s)\"\"\"\n",
    "    values = (\n",
    "        str(row['Description']),\n",
    "        float(row['Credit']),\n",
    "        str(row['Transaction Date'])\n",
    "    )\n",
    "    cursor.execute(sql, values)\n",
    "    \n",
    "# checking the database to check that the data got inserting correctly\n",
    "cursor.execute(\"SELECT * FROM deposits\")\n",
    "results = cursor.fetchall()\n",
    "print('Deposits Data Table: id, source, amount, date \\n ---------------------------')\n",
    "for row in results:\n",
    "    print(row[0], row[1], row[2], row[3])\n",
    "\n",
    "cursor.close()\n",
    "connection.close()"
   ],
   "id": "7896e21c0550b7a9",
   "outputs": [
    {
     "name": "stdout",
     "output_type": "stream",
     "text": [
      "Deposits Data Table: id, source, amount, date \n",
      " ---------------------------\n",
      "65 Federal Express 255.32 2024-08-07\n",
      "66 Federal Express 261.2 2024-08-14\n",
      "67 Aldi 761.28 2024-08-16\n",
      "68 FedEx 292.05 2024-08-22\n",
      "69 Aldi 363.95 2024-08-30\n",
      "70 EB From Savings 4686 300.0 2024-09-03\n",
      "71 Federal Express 296.11 2024-09-04\n",
      "72 EB From Savings 4686 985.0 2024-09-04\n"
     ]
    }
   ],
   "execution_count": 12
  },
  {
   "metadata": {
    "ExecuteTime": {
     "end_time": "2024-09-08T21:39:05.440030Z",
     "start_time": "2024-09-08T21:39:05.272929Z"
    }
   },
   "cell_type": "code",
   "source": [
    "import mysql.connector\n",
    "\n",
    "def get_database_connection(): # to mysql\n",
    "    connection = mysql.connector.connect(host='localhost', user='root', passwd='braedon123', database='budgettracker')\n",
    "    return connection\n",
    "\n",
    "try:\n",
    "    connection = get_database_connection()\n",
    "    cursor = connection.cursor()\n",
    "    cursor.execute(\"SELECT * FROM deposits\")\n",
    "    results = cursor.fetchall()\n",
    "    for row in results:\n",
    "        print(row[:])\n",
    "except mysql.connector.Error as err:\n",
    "    print(f\"Error: {err}\")\n",
    "finally:\n",
    "    if connection.is_connected():\n",
    "        cursor.close()\n",
    "        connection.close()"
   ],
   "id": "a68108bbe394a2d6",
   "outputs": [],
   "execution_count": 17
  },
  {
   "metadata": {},
   "cell_type": "code",
   "outputs": [],
   "execution_count": null,
   "source": "",
   "id": "a975666ca1a9e7fe"
  }
 ],
 "metadata": {
  "kernelspec": {
   "display_name": "Python 3",
   "language": "python",
   "name": "python3"
  },
  "language_info": {
   "codemirror_mode": {
    "name": "ipython",
    "version": 2
   },
   "file_extension": ".py",
   "mimetype": "text/x-python",
   "name": "python",
   "nbconvert_exporter": "python",
   "pygments_lexer": "ipython2",
   "version": "2.7.6"
  }
 },
 "nbformat": 4,
 "nbformat_minor": 5
}
